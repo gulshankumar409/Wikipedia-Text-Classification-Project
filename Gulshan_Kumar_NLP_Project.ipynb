{
  "nbformat": 4,
  "nbformat_minor": 0,
  "metadata": {
    "colab": {
      "provenance": []
    },
    "kernelspec": {
      "name": "python3",
      "display_name": "Python 3"
    },
    "language_info": {
      "name": "python"
    }
  },
  "cells": [
    {
      "cell_type": "code",
      "source": [
        "!pip install Wikipedia-API\n",
        "!pip install wikipedia"
      ],
      "metadata": {
        "colab": {
          "base_uri": "https://localhost:8080/"
        },
        "id": "CCe_DEWnGMob",
        "outputId": "9c4ea874-6f25-4a7b-98e4-5548e6f56806"
      },
      "execution_count": 1,
      "outputs": [
        {
          "output_type": "stream",
          "name": "stdout",
          "text": [
            "Collecting Wikipedia-API\n",
            "  Downloading Wikipedia_API-0.6.0-py3-none-any.whl (14 kB)\n",
            "Requirement already satisfied: requests in /usr/local/lib/python3.10/dist-packages (from Wikipedia-API) (2.31.0)\n",
            "Requirement already satisfied: charset-normalizer<4,>=2 in /usr/local/lib/python3.10/dist-packages (from requests->Wikipedia-API) (3.3.2)\n",
            "Requirement already satisfied: idna<4,>=2.5 in /usr/local/lib/python3.10/dist-packages (from requests->Wikipedia-API) (3.4)\n",
            "Requirement already satisfied: urllib3<3,>=1.21.1 in /usr/local/lib/python3.10/dist-packages (from requests->Wikipedia-API) (2.0.7)\n",
            "Requirement already satisfied: certifi>=2017.4.17 in /usr/local/lib/python3.10/dist-packages (from requests->Wikipedia-API) (2023.7.22)\n",
            "Installing collected packages: Wikipedia-API\n",
            "Successfully installed Wikipedia-API-0.6.0\n",
            "Collecting wikipedia\n",
            "  Downloading wikipedia-1.4.0.tar.gz (27 kB)\n",
            "  Preparing metadata (setup.py) ... \u001b[?25l\u001b[?25hdone\n",
            "Requirement already satisfied: beautifulsoup4 in /usr/local/lib/python3.10/dist-packages (from wikipedia) (4.11.2)\n",
            "Requirement already satisfied: requests<3.0.0,>=2.0.0 in /usr/local/lib/python3.10/dist-packages (from wikipedia) (2.31.0)\n",
            "Requirement already satisfied: charset-normalizer<4,>=2 in /usr/local/lib/python3.10/dist-packages (from requests<3.0.0,>=2.0.0->wikipedia) (3.3.2)\n",
            "Requirement already satisfied: idna<4,>=2.5 in /usr/local/lib/python3.10/dist-packages (from requests<3.0.0,>=2.0.0->wikipedia) (3.4)\n",
            "Requirement already satisfied: urllib3<3,>=1.21.1 in /usr/local/lib/python3.10/dist-packages (from requests<3.0.0,>=2.0.0->wikipedia) (2.0.7)\n",
            "Requirement already satisfied: certifi>=2017.4.17 in /usr/local/lib/python3.10/dist-packages (from requests<3.0.0,>=2.0.0->wikipedia) (2023.7.22)\n",
            "Requirement already satisfied: soupsieve>1.2 in /usr/local/lib/python3.10/dist-packages (from beautifulsoup4->wikipedia) (2.5)\n",
            "Building wheels for collected packages: wikipedia\n",
            "  Building wheel for wikipedia (setup.py) ... \u001b[?25l\u001b[?25hdone\n",
            "  Created wheel for wikipedia: filename=wikipedia-1.4.0-py3-none-any.whl size=11679 sha256=1a8459a339d5201caa57803a1f67cc16f97c79f105d31ca957579fa801887f29\n",
            "  Stored in directory: /root/.cache/pip/wheels/5e/b6/c5/93f3dec388ae76edc830cb42901bb0232504dfc0df02fc50de\n",
            "Successfully built wikipedia\n",
            "Installing collected packages: wikipedia\n",
            "Successfully installed wikipedia-1.4.0\n"
          ]
        }
      ]
    },
    {
      "cell_type": "markdown",
      "source": [
        "# **Imports**\n",
        "\n",
        "We import the packages that include wikipediaapi, numpy, Natural Language toolkit,scikit-learn, and random"
      ],
      "metadata": {
        "id": "JWM0jmw0C5oO"
      }
    },
    {
      "cell_type": "code",
      "source": [
        "import wikipediaapi\n",
        "import numpy as np\n",
        "import nltk\n",
        "from nltk.corpus import stopwords\n",
        "from sklearn.model_selection import train_test_split\n",
        "from sklearn.feature_extraction.text import CountVectorizer\n",
        "from sklearn.naive_bayes import MultinomialNB\n",
        "from sklearn.linear_model import LogisticRegression\n",
        "from sklearn.metrics import accuracy_score, classification_report\n",
        "from nltk.stem import PorterStemmer\n",
        "import random"
      ],
      "metadata": {
        "id": "Yy4Naw4dACEE"
      },
      "execution_count": 2,
      "outputs": []
    },
    {
      "cell_type": "markdown",
      "source": [
        "# Function to evaluate classifier performance\n",
        "Evaluate the performance of the classifier.\n",
        "\n",
        "    Parameters:\n",
        "    - classifier: The trained classifier model.\n",
        "    - X_test: Test data.\n",
        "    - y_test: True labels for the test data.\n",
        "\n",
        "    Returns:\n",
        "    - accuracy: Accuracy of the classifier on the test data.\n",
        "    - report: Classification report including precision, recall, and F1-score"
      ],
      "metadata": {
        "id": "J-awbRpVF67W"
      }
    },
    {
      "cell_type": "code",
      "source": [
        "def evaluate_classifier(classifier, X_test, y_test):\n",
        "    # Make predictions\n",
        "    y_pred = classifier.predict(X_test)\n",
        "\n",
        "    # Calculate accuracy\n",
        "    accuracy = accuracy_score(y_test, y_pred)\n",
        "\n",
        "    # Generate classification report\n",
        "    report = classification_report(y_test, y_pred)\n",
        "\n",
        "    return accuracy, report"
      ],
      "metadata": {
        "id": "ufF2DudtHusa"
      },
      "execution_count": 3,
      "outputs": []
    },
    {
      "cell_type": "markdown",
      "source": [
        "# Step 1: Data Collection"
      ],
      "metadata": {
        "id": "6WMMxlMcJL5B"
      }
    },
    {
      "cell_type": "code",
      "source": [
        "# Collect medical and non-medical articles from Wikipedia\n",
        "wiki_wiki = wikipediaapi.Wikipedia('https://en.wikipedia.org/w/api.php')\n",
        "medical_articles = []\n",
        "non_medical_articles = []"
      ],
      "metadata": {
        "id": "R-s9Ij47GAyr"
      },
      "execution_count": 4,
      "outputs": []
    },
    {
      "cell_type": "markdown",
      "source": [
        "# **For Medical Titles**\n",
        "\n"
      ],
      "metadata": {
        "id": "F_ZYSCDqKHYj"
      }
    },
    {
      "cell_type": "code",
      "source": [
        "#Medical articles are gathered from Wikipedia, covering a broad spectrum of topics such as Medicine, Health, Pharmacology, Anatomy, Surgery, Pediatrics, Cardiology, Psychiatry, Genetics, and various specialized fields within healthcare and medical sciences.\n",
        "\n",
        "medical_titles = [\n",
        "    \"Medicine\", \"Health\", \"Medical_diagnosis\", \"Medical_treatment\", \"Pharmacology\", \"Anatomy\", \"Physiology\", \"Disease\", \"Public_health\", \"Medical_research\",\n",
        "    \"Epidemiology\", \"Genetics\", \"Surgery\", \"Pediatrics\", \"Oncology\", \"Neurology\", \"Cardiology\", \"Immunology\", \"Endocrinology\", \"Psychiatry\",\n",
        "    \"Geriatrics\", \"Gastroenterology\", \"Orthopedics\", \"Dermatology\", \"Hematology\", \"Urology\", \"Nephrology\", \"Radiology\", \"Ophthalmology\", \"Otolaryngology\",\n",
        "    \"Pathology\", \"Pharmacy\", \"Allergy\", \"Pulmonology\", \"Rheumatology\", \"Emergency_medicine\", \"Sports_medicine\", \"Nursing\", \"Obstetrics_and_gynecology\",\n",
        "    \"Anesthesiology\", \"Dentistry\", \"Veterinary_medicine\", \"Medical_ethics\", \"Alternative_medicine\", \"Healthcare_management\", \"Medical_history\",\n",
        "    \"Biochemistry\", \"Biophysics\", \"Biotechnology\", \"Neuroscience\", \"Medical_physics\", \"Pharmaceutical_sciences\", \"Toxicology\", \"Forensic_medicine\",\n",
        "    \"Clinical_immunology\", \"Clinical_pharmacology\", \"Clinical_psychology\", \"Gynecologic_oncology\", \"Pediatric_cardiology\", \"Vascular_surgery\",\n",
        "    \"Plastic_surgery\", \"Thoracic_surgery\", \"Urogynecology\", \"Clinical_genetics\", \"Clinical_neurophysiology\", \"Clinical_nutrition\",\n",
        "    \"Clinical_ophthalmology\", \"Clinical_pathology\", \"Clinical_psychiatry\", \"Clinical_radiology\", \"Clinical_toxicology\", \"Clinical_virology\",\n",
        "    \"Oral_and_maxillofacial_surgery\", \"Orthodontics\", \"Periodontology\", \"Prosthodontics\", \"Neonatology\", \"Orthopaedic_surgery\", \"Pediatric_surgery\",\n",
        "    \"Surgical_oncology\", \"Clinical_neuropsychology\", \"Clinical_pharmacology\", \"Clinical_physiology\", \"Clinical_psychopharmacology\",\n",
        "    \"Clinical_sociology\", \"Clinical_trials\", \"Clinical_urology\", \"Dental_public_health\", \"Gynecologic_pathology\", \"Pediatric_dentistry\",\n",
        "    \"Radiation_oncology\", \"Reproductive_medicine\", \"Clinical_anatomy\", \"Clinical_cardiology\", \"Clinical_cytogenetics\", \"Clinical_encephalography\",\n",
        "    \"Clinical_hematology\", \"Clinical_microbiology\", \"Clinical_neuroscience\", \"Clinical_optometry\", \"Clinical_physics\",\n",
        "    \"Clinical_microscopy\", \"Medical_informatics\", \"Rehabilitation_medicine\", \"Pain_management\", \"Sleep_medicine\", \"Nutritional_medicine\",\n",
        "    \"Clinical_epidemiology\", \"Tropical_medicine\", \"Telemedicine\", \"Molecular_genetics\", \"Interventional_radiology\", \"Neonatal_medicine\",\n",
        "    \"Pharmacoepidemiology\", \"Medical_statistics\", \"Neurotology\", \"Podiatric_medicine\", \"Clinical_allergy\", \"Clinical_andrology\", \"Clinical_ethics\",\n",
        "    \"Medical_entomology\", \"Clinical_gastroenterology\", \"Clinical_gerontology\", \"Clinical_gynecology\", \"Clinical_hypnotherapy\", \"Clinical_kinesiology\",\n",
        "    \"Clinical_laboratory_sciences\", \"Clinical_myology\", \"Clinical_neurology\", \"Clinical_neuropsychiatry\", \"Clinical_nursing\", \"Clinical_orthoptics\",\n",
        "    \"Clinical_otology\", \"Clinical_pharmacy\", \"Clinical_physiology_and_metabolism\", \"Clinical_proteomics\", \"Clinical_rheumatology\", \"Clinical_urodynamics\",\n",
        "    \"Clinical_vascular_science\", \"Clinical_viromics\", \"Clinical_zoology\", \"Emergency_nursing\", \"Gerontological_nursing\", \"Psychiatric_nursing\",\n",
        "    \"Transcultural_nursing\", \"Perioperative_nursing\", \"Community_health_nursing\", \"Hospice_and_palliative_care_nursing\", \"Cardiac_nursing\",\n",
        "    \"Neonatal_nursing\", \"Pediatric_nursing\", \"Oncology_nursing\", \"Nephrology_nursing\", \"Orthopedic_nursing\", \"Gastroenterology_nursing\",\n",
        "    \"Infectious_disease_nursing\", \"Obstetric_nursing\", \"Ophthalmic_nursing\", \"Pulmonary_nursing\", \"Rheumatology_nursing\", \"Urology_nursing\",\n",
        "    \"Plastic_and_reconstructive_surgery\", \"Neurosurgery\", \"Colorectal_surgery\", \"Maxillofacial_surgery\", \"Transplant_surgery\", \"Orthopedic_hand_surgery\",\n",
        "    \"Gynecological_oncological_surgery\", \"Endocrine_surgery\", \"Cardiothoracic_surgery\", \"Pediatric_orthopedic_surgery\", \"Podiatric_surgery\",\n",
        "    \"Plastic_and_maxillofacial_surgery\", \"Hand_surgery\", \"Oncologic_radiation_therapy\", \"Interventional_cardiology\", \"Pediatric_cardiac_surgery\",\n",
        "    \"Cardiac_electrophysiology\", \"Invasive_cardiology\", \"Pediatric_gastroenterology\", \"Pediatric_hematology_and_oncology\", \"Pediatric_infectious_diseases\",\n",
        "    \"Pediatric_nephrology\", \"Pediatric_pulmonology\", \"Pediatric_rheumatology\", \"Pediatric_allergy_and_immunology\", \"Pediatric_endocrinology\",\n",
        "    \"Pediatric_gastrointestinal_surgery\", \"Pediatric_maxillofacial_surgery\", \"Pediatric_neurology\", \"Pediatric_orthopedic_surgery\", \"Pediatric_otolaryngology\",\n",
        "    \"Pediatric_radiology\", \"Pediatric_surgery\", \"Pediatric_urology\", \"Adult_cardiac_surgery\", \"Adult_congenital_heart_disease_surgery\",\n",
        "    \"Adult_hematopoietic_cell_transplantation\", \"Adult_reconstructive_orthopedic_surgery\", \"Adult_transesophageal_ecg\", \"Adult_urinary_diversion\",\n",
        "    \"Adult_nephrology\", \"Adult_psychiatric_and_mental_health_nursing\", \"Adult_cardiac_sonography\", \"Adult_neurology\", \"Adult_respiratory_care\",\n",
        "    \"Adult_ambulatory_care_nursing\", \"Adult_emergency_nursing\", \"Adult_home_health_nursing\", \"Adult_informatics_nursing\", \"Adult_perioperative_nursing\",\n",
        "    \"Adult_rehabilitation_nursing\", \"Adult_school_nursing\", \"Adult_substance_abuse_nursing\", \"Adult_urgent_care_nursing\", \"Adult_wound_ostomy_and_continence_nursing\",\n",
        "    \"Adult_womens_health_nursing\", \"Adult_public_health_nursing\", \"Adult_critical_care_nursing\", \"Adult_holistic_nursing\", \"Adult_occupational_health_nursing\",\n",
        "    \"Adult_pain_management_nursing\", \"Adult_radiology_nursing\", \"Adult_ophthalmic_nursing\", \"Adult_orthopedic_nursing\", \"Adult_pediatric_nursing\",\n",
        "    \"Adult_psychiatric_nursing\", \"Adult_public_health_nursing\", \"Adult_school_nursing\", \"Adult_substance_abuse_nursing\", \"Adult_urgent_care_nursing\",\n",
        "    \"Adult_wound_ostomy_and_continence_nursing\", \"Adult_womens_health_nursing\", \"Adult_critical_care_nursing\", \"Adult_holistic_nursing\",\n",
        "    \"Adult_occupational_health_nursing\", \"Adult_pain_management_nursing\", \"Adult_radiology_nursing\", \"Adult_ophthalmic_nursing\", \"Adult_orthopedic_nursing\",\n",
        "    \"Adult_pediatric_nursing\", \"Adult_psychiatric_nursing\", \"Adult_public_health_nursing\", \"Adult_school_nursing\", \"Adult_substance_abuse_nursing\",\n",
        "    \"Adult_urgent_care_nursing\", \"Adult_wound_ostomy_and_continence_nursing\", \"Adult_womens_health_nursing\", \"Adult_critical_care_nursing\",\n",
        "    \"Adult_holistic_nursing\", \"Adult_occupational_health_nursing\", \"Adult_pain_management_nursing\", \"Adult_radiology_nursing\", \"Adult_ophthalmic_nursing\",\n",
        "    \"Adult_orthopedic_nursing\", \"Adult_pediatric_nursing\", \"Adult_psychiatric_nursing\", \"Adult_public_health_nursing\", \"Adult_school_nursing\",\n",
        "    \"Adult_substance_abuse_nursing\", \"Adult_urgent_care_nursing\", \"Adult_wound_ostomy_and_continence_nursing\", \"Adult_womens_health_nursing\",\n",
        "    \"Adult_critical_care_nursing\", \"Adult_holistic_nursing\", \"Adult_occupational_health_nursing\", \"Adult_pain_management_nursing\",\n",
        "    \"Adult_radiology_nursing\", \"Adult_ophthalmic_nursing\", \"Adult_orthopedic_nursing\", \"Adult_pediatric_nursing\", \"Adult_psychiatric_nursing\",\n",
        "    \"Adult_public_health_nursing\", \"Adult_school_nursing\",\n",
        "]\n",
        "\n",
        "\n",
        "for title in medical_titles:\n",
        "    page = wiki_wiki.page(title)\n",
        "    if page.exists():\n",
        "        medical_articles.append(page.text)\n"
      ],
      "metadata": {
        "id": "eGr-doXNKxDN"
      },
      "execution_count": 5,
      "outputs": []
    },
    {
      "cell_type": "code",
      "source": [
        "len(medical_titles)"
      ],
      "metadata": {
        "colab": {
          "base_uri": "https://localhost:8080/"
        },
        "id": "ITNG6SMDI0Wp",
        "outputId": "b8c0779b-572d-4350-ef5b-228f2643871c"
      },
      "execution_count": 6,
      "outputs": [
        {
          "output_type": "execute_result",
          "data": {
            "text/plain": [
              "274"
            ]
          },
          "metadata": {},
          "execution_count": 6
        }
      ]
    },
    {
      "cell_type": "markdown",
      "source": [
        "**For Non Medical Titles**"
      ],
      "metadata": {
        "id": "5HC09hnJLIDX"
      }
    },
    {
      "cell_type": "code",
      "source": [
        "#Non-medical articles are collected from Wikipedia for a diverse range of topics, including Technology, History, Geography, Art, Music, Sports, Politics, Economics, Science, Mathematics, Literature, Philosophy, and various other fields.\n",
        "\n",
        "\n",
        "non_medical_titles = [\n",
        "    \"Technology\", \"History\", \"Geography\", \"Art\", \"Music\", \"Sports\", \"Politics\", \"Economics\", \"Science\", \"Mathematics\", \"Literature\", \"Philosophy\",\n",
        "    \"Religion\", \"Entertainment\", \"Fashion\", \"Travel\", \"Environment\", \"Architecture\", \"Computer_Science\", \"Psychology\", \"Sociology\", \"Education\",\n",
        "    \"Business\", \"Law\", \"Communication\", \"Media\", \"Languages\", \"Anthropology\", \"Archaeology\", \"Chemistry\", \"Physics\", \"Biology\", \"Botany\", \"Zoology\",\n",
        "    \"Meteorology\", \"Political_Science\", \"Economics\", \"Philosophy\", \"Religious_Studies\", \"Environmental_Science\", \"Space_Exploration\",\n",
        "    \"Artificial_Intelligence\", \"Robotics\", \"Automotive_Technology\", \"Film\", \"Television\", \"Astronomy\", \"Astrophysics\", \"Criminology\", \"Cryptography\",\n",
        "    \"Demography\", \"Ethics\", \"Folklore\", \"Futurology\", \"Game_Theory\", \"Gender_Studies\", \"Linguistics\", \"Logic\", \"Military_Science\", \"Oceanography\",\n",
        "    \"Parapsychology\", \"Political_Philosophy\", \"Semiotics\", \"Social_Work\", \"Statistics\", \"Theatre\", \"Theology\", \"Urban_Studies\", \"Veterinary_Science\",\n",
        "    \"Water_Polo\", \"Yoga\", \"Zumba\", \"Chess\", \"Snooker\", \"Darts\", \"Skiing\", \"Swimming\", \"Table_Tennis\", \"Volleyball\", \"Wrestling\", \"Chess\",\n",
        "    \"Billiards\", \"Rowing\", \"Badminton\", \"Cycling\", \"Cricket\", \"Boxing\", \"Judo\", \"Weightlifting\", \"Rugby\", \"Golf\", \"Handball\", \"Softball\",\n",
        "    \"Tennis\", \"Ice_Skating\", \"Snowboarding\", \"Surfing\", \"Skateboarding\", \"Mountaineering\", \"Hiking\", \"Caving\",\"Astrology\", \"Culinary_Arts\",\n",
        "    \"DIY_Crafts\", \"Home_Decor\", \"Photography\", \"Graphic_Design\", \"Digital_Marketing\", \"Entrepreneurship\",\"Self_Improvement\", \"Fitness\", \"Nutrition\",\n",
        "    \"Mindfulness\", \"DIY_Gardening\", \"Pet_Care\", \"Parenting\", \"Car_Customization\", \"Travel_Photography\",\"DIY_Electronics\", \"DIY_Woodworking\",\n",
        "    \"Music_Production\", \"Digital_Art\", \"Podcasting\", \"Green_Energy\", \"DIY_Fashion\", \"Outdoor_Adventures\",\n",
        "    \"DIY_Home_Improvement\", \"Board_Games\", \"Critical_Thinking\", \"DIY_Robotics\", \"Gourmet_Cooking\", \"Home_Brewing\", \"Language_Learning\",\n",
        "    \"DIY_Vehicle_Maintenance\", \"DIY_Computer_Building\", \"Virtual_Reality\", \"DIY_Cosplay\", \"DIY_Painting\", \"DIY_Sculpting\", \"DIY_Knitting\",\n",
        "    \"DIY_Crocheting\", \"DIY_Candle_Making\", \"DIY_Jewelry_Making\", \"DIY_Pottery\", \"DIY_Origami\", \"DIY_Ceramics\", \"DIY_Metalworking\", \"DIY_Leathercraft\",\n",
        "    \"DIY_Coding\", \"DIY_App_Development\", \"DIY_Video_Editing\", \"DIY_Animation\", \"DIY_3D_Printing\", \"DIY_Wearable_Tech\", \"DIY_Raspberry_Pi_Projects\",\n",
        "    \"DIY_Drone_Building\", \"DIY_Smart_Home\", \"DIY_Renewable_Energy\", \"DIY_Space_Exploration\", \"DIY_Astronomy\", \"DIY_Astrophotography\", \"DIY_Weather_Station\",\n",
        "    \"DIY_Sustainability\", \"DIY_Film_Making\", \"DIY_Game_Development\", \"DIY_Bookbinding\", \"DIY_Calligraphy\", \"DIY_Poetry_Writing\", \"DIY_Short_Story_Writing\",\n",
        "    \"DIY_Novel_Writing\", \"DIY_Screenwriting\", \"DIY_Graphic_Novel_Creation\", \"DIY_Stand-up_Comedy\", \"DIY_Theater_Production\", \"DIY_Puppetry\",\n",
        "    \"DIY_Board_Game_Design\", \"DIY_Magic_Tricks\", \"DIY_Circus_Performance\", \"DIY_Archery\", \"DIY_Rock_Climbing\", \"DIY_Parkour\", \"DIY_Skatepark_Building\",\n",
        "    \"DIY_Bike_Modification\", \"DIY_Sports_Equipment_Creation\", \"DIY_Sustainable_Living\", \"DIY_Fishing_Gear_Creation\", \"DIY_Hunting_Equipment_Creation\",\n",
        "    \"DIY_Aviation\", \"DIY_Surfboard_Shaping\", \"DIY_Scuba_Gear_Creation\", \"DIY_Wine_Making\", \"DIY_Craft_Beer_Brewing\", \"DIY_Soda_Brewing\",\n",
        "    \"DIY_Hydroponics\", \"DIY_Aquaponics\", \"DIY_Composting\", \"DIY_Renewable_Energy\", \"DIY_Solar_Panel_Installation\", \"DIY_Wind_Turbine_Construction\",\n",
        "    \"DIY_Sustainable_Transportation\", \"DIY_Sustainable_Architecture\", \"DIY_Upcycling\", \"DIY_Recycling\", \"DIY_Ethical_Fashion\", \"DIY_Zero_Waste_Living\",\n",
        "    \"DIY_Wildlife_Conservation\", \"DIY_Eco-Friendly_Crafts\", \"DIY_Community_Gardening\", \"DIY_Social_Entrepreneurship\", \"DIY_Public_Speaking\",\n",
        "    \"DIY_Leadership_Development\", \"DIY_Critical_Thinking\", \"DIY_Community_Organizing\", \"DIY_Human_Rights_Advocacy\", \"DIY_Public_Policy_Analysis\",\n",
        "    \"DIY_Diplomacy\", \"DIY_Public_Health_Initiatives\", \"DIY_Social_Work\", \"DIY_Community_Art_Projects\", \"DIY_Community_Theater\", \"DIY_Community_Radio\",\n",
        "    \"DIY_Community_Orchestra\", \"DIY_Community_Choir\", \"DIY_Community_Sports_League\", \"DIY_Community_Film_Festival\", \"DIY_Community_Writing_Workshop\",\n",
        "    \"DIY_Community_Tech_Hub\", \"DIY_Community_Library\", \"DIY_Community_School\", \"DIY_Community_Gym\", \"DIY_Community_Garden\",\n",
        "\n",
        "    ]\n",
        "\n",
        "# Fetching content for non-medical titles\n",
        "for title in non_medical_titles:\n",
        "    page = wiki_wiki.page(title)\n",
        "    if page.exists():\n",
        "        non_medical_articles.append(page.text)# Fetching content for non-medical titles\n",
        "for title in non_medical_titles:\n",
        "    page = wiki_wiki.page(title)\n",
        "    if page.exists():\n",
        "        non_medical_articles.append(page.text)\n"
      ],
      "metadata": {
        "id": "mK7IK61lJ6zS"
      },
      "execution_count": 7,
      "outputs": []
    },
    {
      "cell_type": "code",
      "source": [
        "len(non_medical_titles)"
      ],
      "metadata": {
        "colab": {
          "base_uri": "https://localhost:8080/"
        },
        "id": "J52DqD99I12h",
        "outputId": "0baa03e0-8fb8-452e-aaf8-2b8f2b7f0079"
      },
      "execution_count": 8,
      "outputs": [
        {
          "output_type": "execute_result",
          "data": {
            "text/plain": [
              "231"
            ]
          },
          "metadata": {},
          "execution_count": 8
        }
      ]
    },
    {
      "cell_type": "code",
      "source": [
        "medical_articles[1]"
      ],
      "metadata": {
        "colab": {
          "base_uri": "https://localhost:8080/",
          "height": 105
        },
        "id": "azcDM1CQGn2b",
        "outputId": "c26df674-1034-48f8-e6b2-83a67185fcd5"
      },
      "execution_count": 9,
      "outputs": [
        {
          "output_type": "execute_result",
          "data": {
            "text/plain": [
              "'In common usage and medicine, health, according to the World Health Organization, is \"a state of complete physical, mental and social well-being and not merely the absence of disease and infirmity\". A variety of definitions have been used for different purposes over time. Health can be promoted by encouraging healthful activities, such as regular physical exercise and adequate sleep, and by reducing or avoiding unhealthful activities or situations, such as smoking or excessive stress. Some factors affecting health are due to individual choices, such as whether to engage in a high-risk behavior, while others are due to structural causes, such as whether the society is arranged in a way that makes it easier or harder for people to get necessary healthcare services. Still, other factors are beyond both individual and group choices, such as genetic disorders.\\n\\nHistory\\nThe meaning of health has evolved over time. In keeping with the biomedical perspective, early definitions of health focused on the theme of the body\\'s ability to function; health was seen as a state of normal function that could be disrupted from time to time by disease. An example of such a definition of health is: \"a state characterized by anatomic, physiologic, and psychological integrity; ability to perform personally valued family, work, and community roles; ability to deal with physical, biological, psychological, and social stress\". Then, in 1948, in a radical departure from previous definitions, the World Health Organization (WHO) proposed a definition that aimed higher, linking health to well-being, in terms of \"physical, mental, and social well-being, and not merely the absence of disease and infirmity\". Although this definition was welcomed by some as being innovative, it was also criticized for being vague and excessively broad and was not construed as measurable. For a long time, it was set aside as an impractical ideal, with most discussions of health returning to the practicality of the biomedical model.Just as there was a shift from viewing disease as a state to thinking of it as a process, the same shift happened in definitions of health. Again, the WHO played a leading role when it fostered the development of the health promotion movement in the 1980s. This brought in a new conception of health, not as a state, but in dynamic terms of resiliency, in other words, as \"a resource for living\". In 1984, WHO revised the definition of health defined it as \"the extent to which an individual or group is able to realize aspirations and satisfy needs and to change or cope with the environment. Health is a resource for everyday life, not the objective of living; it is a positive concept, emphasizing social and personal resources, as well as physical capacities.\" Thus, health referred to the ability to maintain homeostasis and recover from adverse events. Mental, intellectual, emotional and social health referred to a person\\'s ability to handle stress, to acquire skills, to maintain relationships, all of which form resources for resiliency and independent living. This opens up many possibilities for health to be taught, strengthened and learned.\\nSince the late 1970s, the federal Healthy People Program has been a visible component of the United States\\' approach to improving population health. In each decade, a new version of Healthy People is issued, featuring updated goals and identifying topic areas and quantifiable objectives for health improvement during the succeeding ten years, with assessment at that point of progress or lack thereof. Progress has been limited to many objectives, leading to concerns about the effectiveness of Healthy People in shaping outcomes in the context of a decentralized and uncoordinated US health system. Healthy People 2020 gives more prominence to health promotion and preventive approaches and adds a substantive focus on the importance of addressing social determinants of health. A new expanded digital interface facilitates use and dissemination rather than bulky printed books as produced in the past. The impact of these changes to Healthy People will be determined in the coming years.Systematic activities to prevent or cure health problems and promote good health in humans are undertaken by health care providers. Applications with regard to animal health are covered by the veterinary sciences. The term \"healthy\" is also widely used in the context of many types of non-living organizations and their impacts for the benefit of humans, such as in the sense of healthy communities, healthy cities or healthy environments. In addition to health care interventions and a person\\'s surroundings, a number of other factors are known to influence the health status of individuals. These are referred to as the \"determinants of health\", which include the individual\\'s background, lifestyle, economic status, social conditions and spirituality; Studies have shown that high levels of stress can affect human health.In the first decade of the 21st century, the conceptualization of health as an ability opened the door for self-assessments to become the main indicators to judge the performance of efforts aimed at improving human health. It also created the opportunity for every person to feel healthy, even in the presence of multiple chronic diseases or a terminal condition, and for the re-examination of determinants of health (away from the traditional approach that focuses on the reduction of the prevalence of diseases).\\n\\nDeterminants\\nIn general, the context in which an individual lives is of great importance for both his health status and quality of life. It is increasingly recognized that health is maintained and improved not only through the advancement and application of health science, but also through the efforts and intelligent lifestyle choices of the individual and society. According to the World Health Organization, the main determinants of health include the social and economic environment, the physical environment, and the person\\'s individual characteristics and behaviors.More specifically, key factors that have been found to influence whether people are healthy or unhealthy include the following:\\n\\nAn increasing number of studies and reports from different organizations and contexts examine the linkages between health and different factors, including lifestyles, environments, health care organization and health policy, one specific health policy brought into many countries in recent years was the introduction of the sugar tax. Beverage taxes came into light with increasing concerns about obesity, particularly among youth. Sugar-sweetened beverages have become a target of anti-obesity initiatives with increasing evidence of their link to obesity.—such as the 1974 Lalonde report from Canada; the Alameda County Study in California; and the series of World Health Reports of the World Health Organization, which focuses on global health issues including access to health care and improving public health outcomes, especially in developing countries.The concept of the \"health field,\" as distinct from medical care, emerged from the Lalonde report from Canada. The report identified three interdependent fields as key determinants of an individual\\'s health. These are:\\nBiomedical: all aspects of health, physical and mental, developed within the human body as influenced by genetic make-up.\\nEnvironmental: all matters related to health external to the human body and over which the individual has little or no control;\\nLifestyle: the aggregation of personal decisions (i.e., over which the individual has control) that can be said to contribute to, or cause, illness or death;The maintenance and promotion of health is achieved through different combination of physical, mental, and social well-being—a combination sometimes referred to as the \"health triangle.\" The WHO\\'s 1986 Ottawa Charter for Health Promotion further stated that health is not just a state, but also \"a resource for everyday life, not the objective of living. Health is a positive concept emphasizing social and personal resources, as well as physical capacities.\"Focusing more on lifestyle issues and their relationships with functional health, data from the Alameda County Study suggested that people can improve their health via exercise, enough sleep, spending time in nature, maintaining a healthy body weight, limiting alcohol use, and avoiding smoking. Health and illness can co-exist, as even people with multiple chronic diseases or terminal illnesses can consider themselves healthy.\\nIf you want to learn about the health of a population, look at the air they breathe, the water they drink, and the places where they live.\\nThe environment is often cited as an important factor influencing the health status of individuals. This includes characteristics of the natural environment, the built environment and the social environment. Factors such as clean water and air, adequate housing, and safe communities and roads all have been found to contribute to good health, especially to the health of infants and children. Some studies have shown that a lack of neighborhood recreational spaces including natural environment leads to lower levels of personal satisfaction and higher levels of obesity, linked to lower overall health and well-being. It has been demonstrated that increased time spent in natural environments is associated with improved self-reported health, suggesting that the positive health benefits of natural space in urban neighborhoods should be taken into account in public policy and land use.\\nGenetics, or inherited traits from parents, also play a role in determining the health status of individuals and populations. This can encompass both the predisposition to certain diseases and health conditions, as well as the habits and behaviors individuals develop through the lifestyle of their families. For example, genetics may play a role in the manner in which people cope with stress, either mental, emotional or physical. For example, obesity is a significant problem in the United States that contributes to poor mental health and causes stress in the lives of many people. One difficulty is the issue raised by the debate over the relative strengths of genetics and other factors; interactions between genetics and environment may be of particular importance.\\n\\nPotential issues\\nA number of health issues are common around the globe. Disease is one of the most common. According to GlobalIssues.org, approximately 36 million people die each year from non-communicable (i.e., not contagious) diseases, including cardiovascular disease, cancer, diabetes and chronic lung disease.Among communicable diseases, both viral and bacterial, AIDS/HIV, tuberculosis, and malaria are the most common, causing millions of deaths every year.Another health issue that causes death or contributes to other health problems is malnutrition, especially among children. One of the groups malnutrition affects most is young children. Approximately 7.5 million children under the age of 5 die from malnutrition, usually brought on by not having the money to find or make food.Bodily injuries are also a common health issue worldwide. These injuries, including bone fractures and burns, can reduce a person\\'s quality of life or can cause fatalities including infections that resulted from the injury (or the severity injury in general).Lifestyle choices are contributing factors to poor health in many cases. These include smoking cigarettes, and can also include a poor diet, whether it is overeating or an overly constrictive diet. Inactivity can also contribute to health issues and also a lack of sleep, excessive alcohol consumption, and neglect of oral hygiene. There are also genetic disorders that are inherited by the person and can vary in how much they affect the person (and when they surface).Although the majority of these health issues are preventable, a major contributor to global ill health is the fact that approximately 1 billion people lack access to health care systems. Arguably, the most common and harmful health issue is that a great many people do not have access to quality remedies.\\n\\nMental health\\nThe World Health Organization describes mental health as \"a state of well-being in which the individual realizes his or her own abilities, can cope with the normal stresses of life, can work productively and fruitfully, and is able to make a contribution to his or her community\". Mental health is not just the absence of mental illness.Mental illness is described as \\'the spectrum of cognitive, emotional, and behavioral conditions that interfere with social and emotional well-being and the lives and productivity of people. Having a mental illness can seriously impair, temporarily or permanently, the mental functioning of a person. Other terms include: \\'mental health problem\\', \\'illness\\', \\'disorder\\', \\'dysfunction\\'.Approximately twenty percent of all adults in the US are considered diagnosable with a mental disorder. Mental disorders are the leading cause of disability in the United States and Canada. Examples of these disorders include schizophrenia, ADHD, major depressive disorder, bipolar disorder, anxiety disorder, post-traumatic stress disorder and autism. Many factors contribute to mental health problems, including:\\nBiological factors, such as genes or brain chemistry\\nFamily history of mental health problems\\nLife experiences, such as trauma or abuse\\n\\nMaintaining\\nAchieving and maintaining health is an ongoing process, shaped by both the evolution of health care knowledge and practices as well as personal strategies and organized interventions for staying healthy.\\n\\nDiet\\nAn important way to maintain one\\'s personal health is to have a healthy diet. A healthy diet includes a variety of plant-based and animal-based foods that provide nutrients to the body. Such nutrients provide the body with energy and keep it running. Nutrients help build and strengthen bones, muscles, and tendons and also regulate body processes (i.e., blood pressure). Water is essential for growth, reproduction and good health. Macronutrients are consumed in relatively large quantities and include proteins, carbohydrates, and fats and fatty acids. Micronutrients – vitamins and minerals – are consumed in relatively smaller quantities, but are essential to body processes. The food guide pyramid is a pyramid-shaped guide of healthy foods divided into sections. Each section shows the recommended intake for each food group (i.e., protein, fat, carbohydrates and sugars). Making healthy food choices can lower one\\'s risk of heart disease and the risk of developing some types of cancer, and can help one maintain their weight within a healthy range.The Mediterranean diet is commonly associated with health-promoting effects. This is sometimes attributed to the inclusion of bioactive compounds such as phenolic compounds, isoprenoids and alkaloids.\\n\\nExercise\\nPhysical exercise enhances or maintains physical fitness and overall health and wellness. It strengthens one\\'s bones and muscles and improves the cardiovascular system. According to the National Institutes of Health, there are four types of exercise: endurance, strength, flexibility, and balance. The CDC states that physical exercise can reduce the risks of heart disease, cancer, type 2 diabetes, high blood pressure, obesity, depression, and anxiety. For the purpose of counteracting possible risks, it is often recommended to start physical exercise gradually as one goes. Participating in any exercising, whether it is housework, yardwork, walking or standing up when talking on the phone, is often thought to be better than none when it comes to health.\\n\\nSleep\\nSleep is an essential component to maintaining health. In children, sleep is also vital for growth and development. Ongoing sleep deprivation has been linked to an increased risk for some chronic health problems. In addition, sleep deprivation has been shown to correlate with both increased susceptibility to illness and slower recovery times from illness. In one study, people with chronic insufficient sleep, set as six hours of sleep a night or less, were found to be four times more likely to catch a cold compared to those who reported sleeping for seven hours or more a night. Due to the role of sleep in regulating metabolism, insufficient sleep may also play a role in weight gain or, conversely, in impeding weight loss. Additionally, in 2007, the International Agency for Research on Cancer, which is the cancer research agency for the World Health Organization, declared that \"shiftwork that involves circadian disruption is probably carcinogenic to humans\", speaking to the dangers of long-term nighttime work due to its intrusion on sleep. In 2015, the National Sleep Foundation released updated recommendations for sleep duration requirements based on age, and concluded that \"Individuals who habitually sleep outside the normal range may be exhibiting signs or symptoms of serious health problems or, if done volitionally, may be compromising their health and well-being.\"\\n\\nRole of science\\nHealth science is the branch of science focused on health. There are two main approaches to health science: the study and research of the body and health-related issues to understand how humans (and animals) function, and the application of that knowledge to improve health and to prevent and cure diseases and other physical and mental impairments. The science builds on many sub-fields, including biology, biochemistry, physics, epidemiology, pharmacology, medical sociology. Applied health sciences endeavor to better understand and improve human health through applications in areas such as health education, biomedical engineering, biotechnology and public health.\\nOrganized interventions to improve health based on the principles and procedures developed through the health sciences are provided by practitioners trained in medicine, nursing, nutrition, pharmacy, social work, psychology, occupational therapy, physical therapy and other health care professions. Clinical practitioners focus mainly on the health of individuals, while public health practitioners consider the overall health of communities and populations. Workplace wellness programs are increasingly being adopted by companies for their value in improving the health and well-being of their employees, as are school health services to improve the health and well-being of children.\\n\\nRole of medicine and medical science\\nContemporary medicine is in general conducted within health care systems. Legal, credentialing and financing frameworks are established by individual governments, augmented on occasion by international organizations, such as churches. The characteristics of any given health care system have significant impact on the way medical care is provided.\\nFrom ancient times, Christian emphasis on practical charity gave rise to the development of systematic nursing and hospitals and the Catholic Church today remains the largest non-government provider of medical services in the world. Advanced industrial countries (with the exception of the United States) and many developing countries provide medical services through a system of universal health care that aims to guarantee care for all through a single-payer health care system, or compulsory private or co-operative health insurance. This is intended to ensure that the entire population has access to medical care on the basis of need rather than ability to pay. Delivery may be via private medical practices or by state-owned hospitals and clinics, or by charities, most commonly by a combination of all three.\\nMost tribal societies provide no guarantee of healthcare for the population as a whole. In such societies, healthcare is available to those that can afford to pay for it or have self-insured it (either directly or as part of an employment contract) or who may be covered by care financed by the government or tribe directly.\\n\\nTransparency of information is another factor defining a delivery system. Access to information on conditions, treatments, quality, and pricing greatly affects the choice by patients/consumers and, therefore, the incentives of medical professionals. While the US healthcare system has come under fire for lack of openness, new legislation may encourage greater openness. There is a perceived tension between the need for transparency on the one hand and such issues as patient confidentiality and the possible exploitation of information for commercial gain on the other.\\n\\nDelivery\\nProvision of medical care is classified into primary, secondary, and tertiary care categories.\\nPrimary care medical services are provided by physicians, physician assistants, nurse practitioners, or other health professionals who have first contact with a patient seeking medical treatment or care. These occur in physician offices, clinics, nursing homes, schools, home visits, and other places close to patients. About 90% of medical visits can be treated by the primary care provider. These include treatment of acute and chronic illnesses, preventive care and health education for all ages and both sexes.\\nSecondary care medical services are provided by medical specialists in their offices or clinics or at local community hospitals for a patient referred by a primary care provider who first diagnosed or treated the patient. Referrals are made for those patients who required the expertise or procedures performed by specialists. These include both ambulatory care and inpatient services, Emergency departments, intensive care medicine, surgery services, physical therapy, labor and delivery, endoscopy units, diagnostic laboratory and medical imaging services, hospice centers, etc. Some primary care providers may also take care of hospitalized patients and deliver babies in a secondary care setting.\\nTertiary care medical services are provided by specialist hospitals or regional centers equipped with diagnostic and treatment facilities not generally available at local hospitals. These include trauma centers, burn treatment centers, advanced neonatology unit services, organ transplants, high-risk pregnancy, radiation oncology, etc.\\nModern medical care also depends on information – still delivered in many health care settings on paper records, but increasingly nowadays by electronic means.\\nIn low-income countries, modern healthcare is often too expensive for the average person. International healthcare policy researchers have advocated that \"user fees\" be removed in these areas to ensure access, although even after removal, significant costs and barriers remain.Separation of prescribing and dispensing is a practice in medicine and pharmacy in which the physician who provides a medical prescription is independent from the pharmacist who provides the prescription drug. In the Western world there are centuries of tradition for separating pharmacists from physicians. In Asian countries, it is traditional for physicians to also provide drugs.\\n\\nRole of public health\\nPublic health has been described as \"the science and art of preventing disease, prolonging life and promoting health through the organized efforts and informed choices of society, organizations, public and private, communities and individuals.\" It is concerned with threats to the overall health of a community based on population health analysis. The population in question can be as small as a handful of people or as large as all the inhabitants of several continents (for instance, in the case of a pandemic). Public health has many sub-fields, but typically includes the interdisciplinary categories of epidemiology, biostatistics and health services. environmental health, community health, behavioral health, and occupational health are also important areas of public health.\\nThe focus of public health interventions is to prevent and manage diseases, injuries and other health conditions through surveillance of cases and the promotion of healthy behavior, communities, and (in aspects relevant to human health) environments. Its aim is to prevent health problems from happening or re-occurring by implementing educational programs, developing policies, administering services and conducting research. In many cases, treating a disease or controlling a pathogen can be vital to preventing it in others, such as during an outbreak. Vaccination programs and distribution of condoms to prevent the spread of communicable diseases are examples of common preventive public health measures, as are educational campaigns to promote vaccination and the use of condoms (including overcoming resistance to such).\\nPublic health also takes various actions to limit the health disparities between different areas of the country and, in some cases, the continent or world. One issue is the access of individuals and communities to health care in terms of financial, geographical or socio-cultural constraints. Applications of the public health system include the areas of maternal and child health, health services administration, emergency response, and prevention and control of infectious and chronic diseases.\\nThe great positive impact of public health programs is widely acknowledged. Due in part to the policies and actions developed through public health, the 20th century registered a decrease in the mortality rates for infants and children and a continual increase in life expectancy in most parts of the world. For example, it is estimated that life expectancy has increased for Americans by thirty years since 1900, and worldwide by six years since 1990.\\n\\nSelf-care strategies\\nPersonal health depends partially on the active, passive, and assisted cues people observe and adopt about their own health. These include personal actions for preventing or minimizing the effects of a disease, usually a chronic condition, through integrative care. They also include personal hygiene practices to prevent infection and illness, such as bathing and washing hands with soap; brushing and flossing teeth; storing, preparing and handling food safely; and many others. The information gleaned from personal observations of daily living – such as about sleep patterns, exercise behavior, nutritional intake and environmental features – may be used to inform personal decisions and actions (e.g., \"I feel tired in the morning so I am going to try sleeping on a different pillow\"), as well as clinical decisions and treatment plans (e.g., a patient who notices his or her shoes are tighter than usual may be having exacerbation of left-sided heart failure, and may require diuretic medication to reduce fluid overload).Personal health also depends partially on the social structure of a person\\'s life. The maintenance of strong social relationships, volunteering, and other social activities have been linked to positive mental health and also increased longevity. One American study among seniors over age 70, found that frequent volunteering was associated with reduced risk of dying compared with older persons who did not volunteer, regardless of physical health status. Another study from Singapore reported that volunteering retirees had significantly better cognitive performance scores, fewer depressive symptoms, and better mental well-being and life satisfaction than non-volunteering retirees.Prolonged psychological stress may negatively impact health, and has been cited as a factor in cognitive impairment with aging, depressive illness, and expression of disease. Stress management is the application of methods to either reduce stress or increase tolerance to stress. Relaxation techniques are physical methods used to relieve stress. Psychological methods include cognitive therapy, meditation, and positive thinking, which work by reducing response to stress. Improving relevant skills, such as problem solving and time management skills, reduces uncertainty and builds confidence, which also reduces the reaction to stress-causing situations where those skills are applicable.\\n\\nOccupational\\nIn addition to safety risks, many jobs also present risks of disease, illness and other long-term health problems. Among the most common occupational diseases are various forms of pneumoconiosis, including silicosis and coal worker\\'s pneumoconiosis (black lung disease). Asthma is another respiratory illness that many workers are vulnerable to. Workers may also be vulnerable to skin diseases, including eczema, dermatitis, urticaria, sunburn, and skin cancer. Other occupational diseases of concern include carpal tunnel syndrome and lead poisoning.\\nAs the number of service sector jobs has risen in developed countries, more and more jobs have become sedentary, presenting a different array of health problems than those associated with manufacturing and the primary sector. Contemporary problems, such as the growing rate of obesity and issues relating to stress and overwork in many countries, have further complicated the interaction between work and health.\\nMany governments view occupational health as a social challenge and have formed public organizations to ensure the health and safety of workers. Examples of these include the British Health and Safety Executive and in the United States, the National Institute for Occupational Safety and Health, which conducts research on occupational health and safety, and the Occupational Safety and Health Administration, which handles regulation and policy relating to worker safety and health.\\n\\nSee also\\nDisease burden – Impact of diseases\\nEnvironmental health – Public health branch focused on environmental impacts on human health\\nHealing – Process of the restoration of health\\nHealth equity – Study and causes of differences in the quality of health and healthcare\\nHuman enhancement – Natural, artificial, or technological alteration of the human body\\nList of health and wellness podcasts\\nMen\\'s health – physical, mental, and social well-being, as experienced by menPages displaying wikidata descriptions as a fallback\\nOne Health – collaborative global initiative to attain optimal health for people, animals and the environmentPages displaying wikidata descriptions as a fallback\\nPopulation health – Health outcomes of a group of individuals\\nWomen\\'s health – Broad subject that encompasses all facets of women\\'s health\\nYouth health – range of approaches to preventing, detecting or treating young people’s health risks and issuesPages displaying wikidata descriptions as a fallback\\n\\nReferences\\nExternal links\\n\\n Media related to Health at Wikimedia Commons'"
            ],
            "application/vnd.google.colaboratory.intrinsic+json": {
              "type": "string"
            }
          },
          "metadata": {},
          "execution_count": 9
        }
      ]
    },
    {
      "cell_type": "code",
      "source": [
        "non_medical_articles[0]"
      ],
      "metadata": {
        "colab": {
          "base_uri": "https://localhost:8080/",
          "height": 105
        },
        "id": "tC3i0ZRbG00y",
        "outputId": "291a5b27-0802-4dc9-f6e3-6e32efb53431"
      },
      "execution_count": 10,
      "outputs": [
        {
          "output_type": "execute_result",
          "data": {
            "text/plain": [
              "'Technology is the application of conceptual knowledge for achieving practical goals, especially in a reproducible way. The word technology can also mean the products resulting from such efforts,:\\u200a117\\u200a including both tangible tools such as utensils or machines, and intangible ones such as software. Technology plays a critical role in science, engineering, and everyday life.\\nTechnological advancements have led to significant changes in society. The earliest known technology is the stone tool, used during prehistoric times, followed by the control of fire, which contributed to the growth of the human brain and the development of language during the Ice Age. The invention of the wheel in the Bronze Age allowed greater travel and the creation of more complex machines. More recent technological inventions, including the printing press, telephone, and the Internet, have lowered barriers to communication and ushered in the knowledge economy.\\nWhile technology contributes to economic development and improves human prosperity, it can also have negative impacts like pollution and resource depletion, and can cause social harms like technological unemployment resulting from automation. As a result, there are ongoing philosophical and political debates about the role and use of technology, the ethics of technology, and ways to mitigate its downsides.\\n\\nEtymology\\nTechnology is a term dating back to the early 17th century that meant \\'systematic treatment\\' (from Greek Τεχνολογία, from the Greek: τέχνη, romanized: tékhnē, lit.\\u2009\\'craft, art\\' and -λογία, \\'study, knowledge\\'). It is predated in use by the Ancient Greek word tékhnē, used to mean \\'knowledge of how to make things\\', which encompassed activities like architecture.Starting in the 19th century, continental Europeans started using the terms Technik (German) or technique (French) to refer to a \\'way of doing\\', which included all technical arts, such as dancing, navigation, or printing, whether or not they required tools or instruments.:\\u200a114–115\\u200a At the time, Technologie (German and French) referred either to the academic discipline studying the \"methods of arts and crafts\", or to the political discipline \"intended to legislate on the functions of the arts and crafts.\":\\u200a117\\u200a Since the distinction between Technik and Technologie is absent in English, both were translated as technology. The term was previously uncommon in English and mostly referred to the academic discipline, as in the Massachusetts Institute of Technology.In the 20th century, as a result of scientific progress and the Second Industrial Revolution, technology stopped being considered a distinct academic discipline and took on its current-day meaning: the systemic use of knowledge to practical ends.:\\u200a119\\n\\nHistory\\nPrehistoric\\nTools were initially developed by hominids through observation and trial and error. Around 2 Mya (million years ago), they learned to make the first stone tools by hammering flakes off a pebble, forming a sharp hand axe. This practice was refined 75 kya (thousand years ago) into pressure flaking, enabling much finer work.The discovery of fire was described by Charles Darwin as \"possibly the greatest ever made by man\". Archaeological, dietary, and social evidence point to \"continuous [human] fire-use\" at least 1.5 Mya. Fire, fueled with wood and charcoal, allowed early humans to cook their food to increase its digestibility, improving its nutrient value and broadening the number of foods that could be eaten. The cooking hypothesis proposes that the ability to cook promoted an increase in hominid brain size, though some researchers find the evidence inconclusive. Archaeological evidence of hearths was dated to 790 kya; researchers believe this is likely to have intensified human socialization and may have contributed to the emergence of language.Other technological advances made during the Paleolithic era include clothing and shelter. No consensus exists on the approximate time of adoption of either technology, but archaeologists have found archaeological evidence of clothing 90-120 kya and shelter 450 kya. As the Paleolithic era progressed, dwellings became more sophisticated and more elaborate; as early as 380 kya, humans were constructing temporary wood huts. Clothing, adapted from the fur and hides of hunted animals, helped humanity expand into colder regions; humans began to migrate out of Africa around 200 kya, initially moving to Eurasia.\\n\\nNeolithic\\nThe Neolithic Revolution (or First Agricultural Revolution) brought about an acceleration of technological innovation, and a consequent increase in social complexity. The invention of the polished stone axe was a major advance that allowed large-scale forest clearance and farming. This use of polished stone axes increased greatly in the Neolithic but was originally used in the preceding Mesolithic in some areas such as Ireland. Agriculture fed larger populations, and the transition to sedentism allowed for the simultaneous raising of more children, as infants no longer needed to be carried around by nomads. Additionally, children could contribute labor to the raising of crops more readily than they could participate in hunter-gatherer activities.With this increase in population and availability of labor came an increase in labor specialization. What triggered the progression from early Neolithic villages to the first cities, such as Uruk, and the first civilizations, such as Sumer, is not specifically known; however, the emergence of increasingly hierarchical social structures and specialized labor, of trade and war amongst adjacent cultures, and the need for collective action to overcome environmental challenges such as irrigation, are all thought to have played a role.The invention of writing led to the spread of cultural knowledge and became the basis for history, libraries, schools, and scientific research.Continuing improvements led to the furnace and bellows and provided, for the first time, the ability to smelt and forge gold, copper, silver, and lead  – native metals found in relatively pure form in nature. The advantages of copper tools over stone, bone and wooden tools were quickly apparent to early humans, and native copper was probably used from near the beginning of Neolithic times (about 10 ka). Native copper does not naturally occur in large amounts, but copper ores are quite common and some of them produce metal easily when burned in wood or charcoal fires. Eventually, the working of metals led to the discovery of alloys such as bronze and brass (about 4,000 BCE). The first use of iron alloys such as steel dates to around 1,800 BCE.\\n\\nAncient\\nAfter harnessing fire, humans discovered other forms of energy. The earliest known use of wind power is the sailing ship; the earliest record of a ship under sail is that of a Nile boat dating to around 7,000 BCE. From prehistoric times, Egyptians likely used the power of the annual flooding of the Nile to irrigate their lands, gradually learning to regulate much of it through purposely built irrigation channels and \"catch\" basins. The ancient Sumerians in Mesopotamia used a complex system of canals and levees to divert water from the Tigris and Euphrates rivers for irrigation.Archaeologists estimate that the wheel was invented independently and concurrently in Mesopotamia (in present-day Iraq), the Northern Caucasus (Maykop culture), and Central Europe. Time estimates range from 5,500 to 3,000 BCE with most experts putting it closer to 4,000 BCE. The oldest artifacts with drawings depicting wheeled carts date from about 3,500 BCE. More recently, the oldest-known wooden wheel in the world was found in the Ljubljana Marsh of Slovenia.The invention of the wheel revolutionized trade and war. It did not take long to discover that wheeled wagons could be used to carry heavy loads. The ancient Sumerians used a potter\\'s wheel and may have invented it. A stone pottery wheel found in the city-state of Ur dates to around 3,429 BCE, and even older fragments of wheel-thrown pottery have been found in the same area. Fast (rotary) potters\\' wheels enabled early mass production of pottery, but it was the use of the wheel as a transformer of energy (through water wheels, windmills, and even treadmills) that revolutionized the application of nonhuman power sources. The first two-wheeled carts were derived from travois and were first used in Mesopotamia and Iran in around 3,000 BCE.\\nThe oldest known constructed roadways are the stone-paved streets of the city-state of Ur, dating to c.\\u20094,000 BCE, and timber roads leading through the swamps of Glastonbury, England, dating to around the same period. The first long-distance road, which came into use around 3,500 BCE, spanned 2,400 km from the Persian Gulf to the Mediterranean Sea, but was not paved and was only partially maintained. In around 2,000 BCE, the Minoans on the Greek island of Crete built a 50 km road leading from the palace of Gortyn on the south side of the island, through the mountains, to the palace of Knossos on the north side of the island. Unlike the earlier road, the Minoan road was completely paved.Ancient Minoan private homes had running water. A bathtub virtually identical to modern ones was unearthed at the Palace of Knossos. Several Minoan private homes also had toilets, which could be flushed by pouring water down the drain. The ancient Romans had many public flush toilets, which emptied into an extensive sewage system. The primary sewer in Rome was the Cloaca Maxima; construction began on it in the sixth century BCE and it is still in use today.The ancient Romans also had a complex system of aqueducts, which were used to transport water across long distances. The first Roman aqueduct was built in 312 BCE. The eleventh and final ancient Roman aqueduct was built in 226 CE. Put together, the Roman aqueducts extended over 450 km, but less than 70 km of this was above ground and supported by arches.\\n\\nPre-modern\\nInnovations continued through the Middle Ages with the introduction of silk production (in Asia and later Europe), the horse collar, and horseshoes. Simple machines (such as the lever, the screw, and the pulley) were combined into more complicated tools, such as the wheelbarrow, windmills, and clocks. A system of universities developed and spread scientific ideas and practices, including Oxford and Cambridge.The Renaissance era produced many innovations, including the introduction of the movable type printing press to Europe, which facilitated the communication of knowledge. Technology became increasingly influenced by science, beginning a cycle of mutual advancement.\\n\\nModern\\nStarting in the United Kingdom in the 18th century, the discovery of steam power set off the Industrial Revolution, which saw wide-ranging technological discoveries, particularly in the areas of agriculture, manufacturing, mining, metallurgy, and transport, and the widespread application of the factory system. This was followed a century later by the Second Industrial Revolution which led to rapid scientific discovery, standardization, and mass production. New technologies were developed, including sewage systems, electricity, light bulbs, electric motors, railroads, automobiles, and airplanes. These technological advances led to significant developments in medicine, chemistry, physics, and engineering. They were accompanied by consequential social change, with the introduction of skyscrapers accompanied by rapid urbanization. Communication improved with the invention of the telegraph, the telephone, the radio, and television.The 20th century brought a host of innovations. In physics, the discovery of nuclear fission in the Atomic Age led to both nuclear weapons and nuclear power. Computers were invented and later shifted from analog to digital in the Digital Revolution. Information technology, particularly optical fiber and optical amplifiers led to the birth of the Internet, which ushered in the Information Age. The Space Age began with the launch of Sputnik 1 in 1957, and later the launch of crewed missions to the moon in the 1960s. Organized efforts to search for extraterrestrial intelligence have used radio telescopes to detect signs of technology use, or technosignatures, given off by alien civilizations. In medicine, new technologies were developed for diagnosis (CT, PET, and MRI scanning), treatment (like the dialysis machine, defibrillator, pacemaker, and a wide array of new pharmaceutical drugs), and research (like interferon cloning and DNA microarrays).Complex manufacturing and construction techniques and organizations are needed to make and maintain more modern technologies, and entire industries have arisen to develop succeeding generations of increasingly more complex tools. Modern technology increasingly relies on training and education – their designers, builders, maintainers, and users often require sophisticated general and specific training. Moreover, these technologies have become so complex that entire fields have developed to support them, including engineering, medicine, and computer science; and other fields have become more complex, such as construction, transportation, and architecture.\\n\\nImpact\\nTechnological change is the largest cause of long-term economic growth. Throughout human history, energy production was the main constraint on economic development, and new technologies allowed humans to significantly increase the amount of available energy. First came fire, which made edible a wider variety of foods, and made it less physically demanding to digest them. Fire also enabled smelting, and the use of tin, copper, and iron tools, used for hunting or tradesmanship. Then came the agricultural revolution: humans no longer needed to hunt or gather to survive, and began to settle in towns and cities, forming more complex societies, with militaries and more organized forms of religion.Technologies have contributed to human welfare through increased prosperity, improved comfort and quality of life, and medical progress, but they can also disrupt existing social hierarchies, cause pollution, and harm individuals or groups.\\nRecent years have brought about a rise in social media\\'s cultural prominence, with potential repercussions on democracy, and economic and social life. Early on, the internet was seen as a \"liberation technology\" that would democratize knowledge, improve access to education, and promote democracy. Modern research has turned to investigate the internet\\'s downsides, including disinformation, polarization, hate speech, and propaganda.Since the 1970s, technology\\'s impact on the environment has been criticized, leading to a surge in investment in solar, wind, and other forms of clean energy.\\n\\nSocial\\nJobs\\nSince the invention of the wheel, technologies have helped increase humans\\' economic output. Past automation has both substituted and complemented labor; machines replaced humans at some lower-paying jobs (for example in agriculture), but this was compensated by the creation of new, higher-paying jobs. Studies have found that computers did not create significant net technological unemployment. Due to artificial intelligence being far more capable than computers, and still being in its infancy, it is not known whether it will follow the same trend; the question has been debated at length among economists and policymakers. A 2017 survey found no clear consensus among economists on whether AI would increase long-term unemployment. According to the World Economic Forum\\'s \"The Future of Jobs Report 2020\", AI is predicted to replace 85 million jobs worldwide, and create 97 million new jobs by 2025. From 1990 to 2007, a study in the U.S by MIT economist Daron Acemoglu showed that an addition of one robot for every 1,000 workers decreased the employment-to-population ratio by 0.2%, or about 3.3 workers, and lowered wages by 0.42%. Concerns about technology replacing human labor however are long-lasting. As US president Lyndon Johnson said in 1964, \"Technology is creating both new opportunities and new obligations for us, opportunity for greater productivity and progress; obligation to be sure that no workingman, no family must pay an unjust price for progress.\" upon signing the National Commission on Technology, Automation, and Economic Progress bill.\\n\\nSecurity\\nWith the growing reliance of technology, there have been security and privacy concerns along with it. Billions of people use different online payment methods, such as WeChat Pay, PayPal, Alipay, and much more to help transfer money. Although security measures are placed, some criminals are able to bypass them. In March 2022, North Korea used Blender.io, a mixer which helped them to hide their cryptocurrency exchanges, to launder over $20.5 million in cryptocurrency, from Axie Infinity, and steal over $600 million worth of cryptocurrency from the game\\'s owner. Because of this, the U.S. Treasury Department sanctioned Blender.io, which marked the first time it has taken action against a mixer, to try and crack down on North Korean hackers. The privacy of cryptocurrency has been debated. Although many customers like the privacy of cryptocurrency, many also argue that it needs more transparency and stability.\\n\\nEnvironmental\\nTechnology has impacted the world with negative and positive environmental impacts, which are usually the reverse of the initial damage, such as; the creation of pollution and the attempt to undo said pollution, deforestation and the reversing of deforestation, and oil spills. All of these have had a significant impact on the environment of the earth. As technology has advanced, so has the negative environmental impact, with the releasing of greenhouse gases, like methane and carbon dioxide, into the atmosphere, causing the greenhouse effect, gradually heating the earth and causing global warming. All of this has become worse with the advancement of technology.\\n\\nPollution\\nPollution, the presence of contaminants in an environment that causes adverse effects, could have been present as early as the Inca empire. They used a lead sulfide flux in the smelting of ores, along with the use of a wind-drafted clay kiln, which released lead into the atmosphere and the sediment of rivers.\\n\\nPhilosophy\\nPhilosophy of technology is a branch of philosophy that studies the \"practice of designing and creating artifacts\", and the \"nature of the things so created.\" It emerged as a discipline over the past two centuries, and has grown \"considerably\" since the 1970s. The humanities philosophy of technology is concerned with the \"meaning of technology for, and its impact on, society and culture\".Initially, technology was seen as an extension of the human organism that replicated or amplified bodily and mental faculties. Marx framed it as a tool used by capitalists to oppress the proletariat, but believed that technology would be a fundamentally liberating force once it was \"freed from societal deformations\". Second-wave philosophers like Ortega later shifted their focus from economics and politics to \"daily life and living in a techno-material culture,\" arguing that technology could oppress \"even the members of the bourgeoisie who were its ostensible masters and possessors.\" Third-stage philosophers like Don Ihde and Albert Borgmann represent a turn toward de-generalization and empiricism, and considered how humans can learn to live with technology.Early scholarship on technology was split between two arguments: technological determinism, and social construction. Technological determinism is the idea that technologies cause unavoidable social changes.:\\u200a95\\u200a It usually encompasses a related argument, technological autonomy, which asserts that technological progress follows a natural progression and cannot be prevented. Social constructivists argue that technologies follow no natural progression, and are shaped by cultural values, laws, politics, and economic incentives. Modern scholarship has shifted towards an analysis of sociotechnical systems, \"assemblages of things, people, practices, and meanings\", looking at the value judgments that shape technology.Cultural critic Neil Postman distinguished tool-using societies from technological societies and from what he called \"technopolies,\" societies that are dominated by an ideology of technological and scientific progress to the detriment of other cultural practices, values, and world views. Herbert Marcuse and John Zerzan suggest that technological society will inevitably deprive us of our freedom and psychological health.\\n\\nEthics\\nThe ethics of technology is an interdisciplinary subfield of ethics that analyzes technology\\'s ethical implications and explores ways to mitigate the potential negative impacts of new technologies. There is a broad range of ethical issues revolving around technology, from specific areas of focus affecting professionals working with technology to broader social, ethical, and legal issues concerning the role of technology in society and everyday life.Prominent debates have surrounded genetically modified organisms, the use of robotic soldiers, algorithmic bias, and the issue of aligning AI behavior with human values.Technology ethics encompasses several key fields. Bioethics looks at ethical issues surrounding biotechnologies and modern medicine, including cloning, human genetic engineering, and stem cell research. Computer ethics focuses on issues related to computing. Cyberethics explores internet-related issues like intellectual property rights, privacy, and censorship. Nanoethics examines issues surrounding the alteration of matter at the atomic and molecular level in various disciplines including computer science, engineering, and biology. And engineering ethics deals with the professional standards of engineers, including software engineers and their moral responsibilities to the public.A wide branch of technology ethics is concerned with the ethics of artificial intelligence: it includes robot ethics, which deals with ethical issues involved in the design, construction, use, and treatment of robots, as well as machine ethics, which is concerned with ensuring the ethical behavior of artificially intelligent agents. Within the field of AI ethics, significant yet-unsolved research problems include AI alignment (ensuring that AI behaviors are aligned with their creators\\' intended goals and interests) and the reduction of algorithmic bias. Some researchers have warned against the hypothetical risk of an AI takeover, and have advocated for the use of AI capability control in addition to AI alignment methods.\\nOther fields of ethics have had to contend with technology-related issues, including military ethics, media ethics, and educational ethics.\\n\\nFutures studies\\nFutures studies is the systematic and interdisciplinary study of social and technological progress. It aims to quantitatively and qualitatively explore the range of plausible futures and to incorporate human values in the development of new technologies.:\\u200a54\\u200a More generally, futures researchers are interested in improving \"the freedom and welfare of humankind\".:\\u200a73\\u200a It relies on a thorough quantitative and qualitative analysis of past and present technological trends, and attempts to rigorously extrapolate them into the future. Science fiction is often used as a source of ideas.:\\u200a173\\u200a Futures research methodologies include survey research, modeling, statistical analysis, and computer simulations.:\\u200a187\\n\\nExistential risk\\nExistential risk researchers analyze risks that could lead to human extinction or civilizational collapse, and look for ways to build resilience against them. Relevant research centers include the Cambridge Center for the Study of Existential Risk, and the Stanford Existential Risk Initiative. Future technologies may contribute to the risks of artificial general intelligence, biological warfare, nuclear warfare, nanotechnology, anthropogenic climate change, global warming, or stable global totalitarianism, though technologies may also help us mitigate asteroid impacts and gamma-ray bursts. In 2019 philosopher Nick Bostrom introduced the notion of a vulnerable world, \"one in which there is some level of technological development at which civilization almost certainly gets devastated by default\", citing the risks of a pandemic caused by bioterrorists, or an arms race triggered by the development of novel armaments and the loss of mutual assured destruction. He invites policymakers to question the assumptions that technological progress is always beneficial, that scientific openness is always preferable, or that they can afford to wait until a dangerous technology has been invented before they prepare mitigations.\\n\\nEmerging technologies\\nEmerging technologies are novel technologies whose development or practical applications are still largely unrealized. They include nanotechnology, biotechnology, robotics, 3D printing, blockchains, and artificial intelligence.\\nIn 2005, futurist Ray Kurzweil claimed the next technological revolution would rest upon advances in genetics, nanotechnology, and robotics, with robotics being the most impactful of the three technologies. Genetic engineering will allow far greater control over human biological nature through a process called directed evolution. Some thinkers believe that this may shatter our sense of self, and have urged for renewed public debate exploring the issue more thoroughly; others fear that directed evolution could lead to eugenics or extreme social inequality. Nanotechnology will grant us the ability to manipulate matter \"at the molecular and atomic scale\", which could allow us to reshape ourselves and our environment in fundamental ways. Nanobots could be used within the human body to destroy cancer cells or form new body parts, blurring the line between biology and technology. Autonomous robots have undergone rapid progress, and are expected to replace humans at many dangerous tasks, including search and rescue, bomb disposal, firefighting, and war.Estimates on the advent of artificial general intelligence vary, but half of machine learning experts surveyed in 2018 believe that AI will \"accomplish every task better and more cheaply\" than humans by 2063, and automate all human jobs by 2140. This expected technological unemployment has led to calls for increased emphasis on computer science education and debates about universal basic income. Political science experts predict that this could lead to a rise in extremism, while others see it as an opportunity to usher in a post-scarcity economy.\\n\\nMovements\\nAppropriate technology\\nSome segments of the 1960s hippie counterculture grew to dislike urban living and developed a preference for locally autonomous, sustainable, and decentralized technology, termed appropriate technology. This later influenced hacker culture and technopaganism.\\n\\nTechnological utopianism\\nTechnological utopianism refers to the belief that technological development is a moral good, which can and should bring about a utopia, that is, a society in which laws, governments, and social conditions serve the needs of all its citizens. Examples of techno-utopian goals include post-scarcity economics, life extension, mind uploading, cryonics, and the creation of artificial superintelligence. Major techno-utopian movements include transhumanism and singularitarianism.\\nThe transhumanism movement is founded upon the \"continued evolution of human life beyond its current human form\" through science and technology, informed by \"life-promoting principles and values.\" The movement gained wider popularity in the early 21st century.Singularitarians believe that machine superintelligence will \"accelerate technological progress\" by orders of magnitude and \"create even more intelligent entities ever faster\", which may lead to a pace of societal and technological change that is \"incomprehensible\" to us. This event horizon is known as the technological singularity.Major figures of techno-utopianism include Ray Kurzweil and Nick Bostrom. Techno-utopianism has attracted both praise and criticism from progressive, religious, and conservative thinkers.\\n\\nAnti-technology backlash\\nTechnology\\'s central role in our lives has drawn concerns and backlash. The backlash against technology is not a uniform movement and encompasses many heterogeneous ideologies.The earliest known revolt against technology was Luddism, a pushback against early automation in textile production. Automation had resulted in a need for fewer workers, a process known as technological unemployment.\\nBetween the 1970s and 1990s, American terrorist Ted Kaczynski carried out a series of bombings across America and published the Unabomber Manifesto denouncing technology\\'s negative impacts on nature and human freedom. The essay resonated with a large part of the American public. It was partly inspired by Jacques Ellul\\'s The Technological Society.Some subcultures, like the off-the-grid movement, advocate a withdrawal from technology and a return to nature. The ecovillage movement seeks to reestablish harmony between technology and nature.\\n\\nRelation to science and engineering\\nEngineering is the process by which technology is developed. It often requires problem-solving under strict constraints. Technological development is \"action-oriented\", while scientific knowledge is fundamentally explanatory. Polish philosopher Henryk Skolimowski framed it like so: \"science concerns itself with what is, technology with what is to be.\":\\u200a375\\u200aThe direction of causality between scientific discovery and technological innovation has been debated by scientists, philosophers and policymakers. Because innovation is often undertaken at the edge of scientific knowledge, most technologies are not derived from scientific knowledge, but instead from engineering, tinkering and chance.:\\u200a217–240\\u200a For example, in the 1940s and 1950s, when knowledge of turbulent combustion or fluid dynamics was still crude, jet engines were invented through \"running the device to destruction, analyzing what broke [...] and repeating the process\". Scientific explanations often follow technological developments rather than preceding them.:\\u200a217–240\\u200a Many discoveries also arose from pure chance, like the discovery of penicillin as a result of accidental lab contamination. Since the 1960s, the assumption that government funding of basic research would lead to the discovery of marketable technologies has lost credibility. Probabilist Nassim Taleb argues that national research programs that implement the notions of serendipity and convexity through frequent trial and error are more likely to lead to useful innovations than research that aims to reach specific outcomes.Despite this, modern technology is increasingly reliant on deep, domain-specific scientific knowledge. In 1975, there was an average of one citation of scientific literature in every three patents granted in the U.S.; by 1989, this increased to an average of one citation per patent. The average was skewed upwards by patents related to the pharmaceutical industry, chemistry, and electronics. A 2021 analysis shows that patents that are based on scientific discoveries are on average 26% more valuable than equivalent non-science-based patents.\\n\\nOther animal species\\nThe use of basic technology is also a feature of non-human animal species. Tool use was once considered a defining characteristic of the genus Homo. This view was supplanted after discovering evidence of tool use among chimpanzees and other primates, dolphins, and crows. For example, researchers have observed wild chimpanzees using basic foraging tools, pestles, levers, using leaves as sponges, and tree bark or vines as probes to fish termites. West African chimpanzees use stone hammers and anvils for cracking nuts, as do capuchin monkeys of Boa Vista, Brazil. Tool use is not the only form of animal technology use; for example, beaver dams, built with wooden sticks or large stones, are a technology with \"dramatic\" impacts on river habitats and ecosystems.\\n\\nPopular culture\\nThe relationship of humanity with technology has been explored in science-fiction literature, for example in Brave New World, A Clockwork Orange, Nineteen Eighty-Four, Isaac Asimov\\'s essays, and movies like Minority Report, Total Recall, Gattaca, and Inception. It has spawned the dystopian and futuristic cyberpunk genre, which juxtaposes futuristic technology with societal collapse, dystopia or decay. Notable cyberpunk works include William Gibson\\'s Neuromancer novel, and movies like Blade Runner, and The Matrix.\\n\\nSee also\\nReferences\\nCitations\\nSources\\nFurther reading\\nGribbin, John, \"Alone in the Milky Way: Why we are probably the only intelligent life in the galaxy\", Scientific American, vol. 319, no. 3 (September 2018), pp. 94–99. \"Is life likely to exist elsewhere in the [Milky Way] galaxy? Almost certainly yes, given the speed with which it appeared on Earth. Is another technological civilization likely to exist today? Almost certainly no, given the chain of circumstances that led to our existence. These considerations suggest that we are unique not just on our planet but in the whole Milky Way. And if our planet is so special, it becomes all the more important to preserve this unique world for ourselves, our descendants and the many creatures that call Earth home.\" (p. 99.)'"
            ],
            "application/vnd.google.colaboratory.intrinsic+json": {
              "type": "string"
            }
          },
          "metadata": {},
          "execution_count": 10
        }
      ]
    },
    {
      "cell_type": "markdown",
      "source": [
        "# Step 2: Data Preprocessing"
      ],
      "metadata": {
        "id": "GKxjqL5-Llas"
      }
    },
    {
      "cell_type": "code",
      "source": [
        "# Downloading NLTK resources\n",
        "nltk.download(\"punkt\")\n",
        "nltk.download(\"stopwords\")"
      ],
      "metadata": {
        "colab": {
          "base_uri": "https://localhost:8080/"
        },
        "id": "QmhIvlHeGdnD",
        "outputId": "ae129b3d-e0c5-495e-b885-30cfd3cd610c"
      },
      "execution_count": 11,
      "outputs": [
        {
          "output_type": "stream",
          "name": "stderr",
          "text": [
            "[nltk_data] Downloading package punkt to /root/nltk_data...\n",
            "[nltk_data]   Unzipping tokenizers/punkt.zip.\n",
            "[nltk_data] Downloading package stopwords to /root/nltk_data...\n",
            "[nltk_data]   Unzipping corpora/stopwords.zip.\n"
          ]
        },
        {
          "output_type": "execute_result",
          "data": {
            "text/plain": [
              "True"
            ]
          },
          "metadata": {},
          "execution_count": 11
        }
      ]
    },
    {
      "cell_type": "markdown",
      "source": [
        "Preprocess the input text by tokenization, lowercase conversion, stopword removal, and stemming.\n",
        "\n",
        "    Parameters:\n",
        "    - text: Input text to be preprocessed.\n",
        "\n",
        "    Returns:\n",
        "    - Preprocessed text.\n",
        "    \"\"\""
      ],
      "metadata": {
        "id": "UtBRIr5aobDF"
      }
    },
    {
      "cell_type": "code",
      "source": [
        "# Preprocessing text data with tokenization, lowercase conversion, stopword removal, and stemming\n",
        "def preprocess_text(text):\n",
        "    tokens = nltk.word_tokenize(text)\n",
        "    tokens = [word.lower() for word in tokens]\n",
        "    stop_words = set(stopwords.words(\"english\"))\n",
        "    filtered_tokens = [word for word in tokens if word not in stop_words]\n",
        "\n",
        "# Apply stemming\n",
        "    stemmer = PorterStemmer()\n",
        "    stemmed_tokens = [stemmer.stem(word) for word in filtered_tokens]\n",
        "\n",
        "    return \" \".join(stemmed_tokens)"
      ],
      "metadata": {
        "id": "105WgUf6GglB"
      },
      "execution_count": 12,
      "outputs": []
    },
    {
      "cell_type": "code",
      "source": [
        "# Apply preprocessing to collected articles\n",
        "medical_articles = [preprocess_text(article) for article in medical_articles]\n",
        "non_medical_articles = [preprocess_text(article) for article in non_medical_articles]"
      ],
      "metadata": {
        "id": "N6uIg4gGGip6"
      },
      "execution_count": 13,
      "outputs": []
    },
    {
      "cell_type": "markdown",
      "source": [
        "# Step 3: Feature Extraction"
      ],
      "metadata": {
        "id": "iO4esgyEL-Tf"
      }
    },
    {
      "cell_type": "code",
      "source": [
        "# Using CountVectorizer for feature extraction\n",
        "vectorizer = CountVectorizer()\n",
        "X = vectorizer.fit_transform(medical_articles + non_medical_articles)\n",
        "y = np.array([1] * len(medical_articles) + [0] * len(non_medical_articles))"
      ],
      "metadata": {
        "id": "fieLPuYuG9My"
      },
      "execution_count": 14,
      "outputs": []
    },
    {
      "cell_type": "markdown",
      "source": [
        "# Step 4: Machine Learning Model"
      ],
      "metadata": {
        "id": "h4nN36E-MB5r"
      }
    },
    {
      "cell_type": "code",
      "source": [
        "# Splitting the data into training and testing sets\n",
        "X_train, X_test, y_train, y_test = train_test_split(X, y, test_size=0.2, random_state=42, shuffle=True)"
      ],
      "metadata": {
        "id": "9p7ea4qxG_ja"
      },
      "execution_count": 15,
      "outputs": []
    },
    {
      "cell_type": "code",
      "source": [
        "# Create and train the Naive Bayes classifier\n",
        "naive_bayes_classifier = MultinomialNB()\n",
        "naive_bayes_classifier.fit(X_train, y_train)\n",
        "\n",
        "# Create and train the Logistic Regression classifier\n",
        "logistic_regression_classifier = LogisticRegression()\n",
        "logistic_regression_classifier.fit(X_train, y_train)"
      ],
      "metadata": {
        "colab": {
          "base_uri": "https://localhost:8080/",
          "height": 214
        },
        "id": "G7OCGFzcHQ-p",
        "outputId": "f1bb397c-7a1e-4b0a-d068-c382e04a79f6"
      },
      "execution_count": 16,
      "outputs": [
        {
          "output_type": "stream",
          "name": "stderr",
          "text": [
            "/usr/local/lib/python3.10/dist-packages/sklearn/linear_model/_logistic.py:458: ConvergenceWarning: lbfgs failed to converge (status=1):\n",
            "STOP: TOTAL NO. of ITERATIONS REACHED LIMIT.\n",
            "\n",
            "Increase the number of iterations (max_iter) or scale the data as shown in:\n",
            "    https://scikit-learn.org/stable/modules/preprocessing.html\n",
            "Please also refer to the documentation for alternative solver options:\n",
            "    https://scikit-learn.org/stable/modules/linear_model.html#logistic-regression\n",
            "  n_iter_i = _check_optimize_result(\n"
          ]
        },
        {
          "output_type": "execute_result",
          "data": {
            "text/plain": [
              "LogisticRegression()"
            ],
            "text/html": [
              "<style>#sk-container-id-1 {color: black;background-color: white;}#sk-container-id-1 pre{padding: 0;}#sk-container-id-1 div.sk-toggleable {background-color: white;}#sk-container-id-1 label.sk-toggleable__label {cursor: pointer;display: block;width: 100%;margin-bottom: 0;padding: 0.3em;box-sizing: border-box;text-align: center;}#sk-container-id-1 label.sk-toggleable__label-arrow:before {content: \"▸\";float: left;margin-right: 0.25em;color: #696969;}#sk-container-id-1 label.sk-toggleable__label-arrow:hover:before {color: black;}#sk-container-id-1 div.sk-estimator:hover label.sk-toggleable__label-arrow:before {color: black;}#sk-container-id-1 div.sk-toggleable__content {max-height: 0;max-width: 0;overflow: hidden;text-align: left;background-color: #f0f8ff;}#sk-container-id-1 div.sk-toggleable__content pre {margin: 0.2em;color: black;border-radius: 0.25em;background-color: #f0f8ff;}#sk-container-id-1 input.sk-toggleable__control:checked~div.sk-toggleable__content {max-height: 200px;max-width: 100%;overflow: auto;}#sk-container-id-1 input.sk-toggleable__control:checked~label.sk-toggleable__label-arrow:before {content: \"▾\";}#sk-container-id-1 div.sk-estimator input.sk-toggleable__control:checked~label.sk-toggleable__label {background-color: #d4ebff;}#sk-container-id-1 div.sk-label input.sk-toggleable__control:checked~label.sk-toggleable__label {background-color: #d4ebff;}#sk-container-id-1 input.sk-hidden--visually {border: 0;clip: rect(1px 1px 1px 1px);clip: rect(1px, 1px, 1px, 1px);height: 1px;margin: -1px;overflow: hidden;padding: 0;position: absolute;width: 1px;}#sk-container-id-1 div.sk-estimator {font-family: monospace;background-color: #f0f8ff;border: 1px dotted black;border-radius: 0.25em;box-sizing: border-box;margin-bottom: 0.5em;}#sk-container-id-1 div.sk-estimator:hover {background-color: #d4ebff;}#sk-container-id-1 div.sk-parallel-item::after {content: \"\";width: 100%;border-bottom: 1px solid gray;flex-grow: 1;}#sk-container-id-1 div.sk-label:hover label.sk-toggleable__label {background-color: #d4ebff;}#sk-container-id-1 div.sk-serial::before {content: \"\";position: absolute;border-left: 1px solid gray;box-sizing: border-box;top: 0;bottom: 0;left: 50%;z-index: 0;}#sk-container-id-1 div.sk-serial {display: flex;flex-direction: column;align-items: center;background-color: white;padding-right: 0.2em;padding-left: 0.2em;position: relative;}#sk-container-id-1 div.sk-item {position: relative;z-index: 1;}#sk-container-id-1 div.sk-parallel {display: flex;align-items: stretch;justify-content: center;background-color: white;position: relative;}#sk-container-id-1 div.sk-item::before, #sk-container-id-1 div.sk-parallel-item::before {content: \"\";position: absolute;border-left: 1px solid gray;box-sizing: border-box;top: 0;bottom: 0;left: 50%;z-index: -1;}#sk-container-id-1 div.sk-parallel-item {display: flex;flex-direction: column;z-index: 1;position: relative;background-color: white;}#sk-container-id-1 div.sk-parallel-item:first-child::after {align-self: flex-end;width: 50%;}#sk-container-id-1 div.sk-parallel-item:last-child::after {align-self: flex-start;width: 50%;}#sk-container-id-1 div.sk-parallel-item:only-child::after {width: 0;}#sk-container-id-1 div.sk-dashed-wrapped {border: 1px dashed gray;margin: 0 0.4em 0.5em 0.4em;box-sizing: border-box;padding-bottom: 0.4em;background-color: white;}#sk-container-id-1 div.sk-label label {font-family: monospace;font-weight: bold;display: inline-block;line-height: 1.2em;}#sk-container-id-1 div.sk-label-container {text-align: center;}#sk-container-id-1 div.sk-container {/* jupyter's `normalize.less` sets `[hidden] { display: none; }` but bootstrap.min.css set `[hidden] { display: none !important; }` so we also need the `!important` here to be able to override the default hidden behavior on the sphinx rendered scikit-learn.org. See: https://github.com/scikit-learn/scikit-learn/issues/21755 */display: inline-block !important;position: relative;}#sk-container-id-1 div.sk-text-repr-fallback {display: none;}</style><div id=\"sk-container-id-1\" class=\"sk-top-container\"><div class=\"sk-text-repr-fallback\"><pre>LogisticRegression()</pre><b>In a Jupyter environment, please rerun this cell to show the HTML representation or trust the notebook. <br />On GitHub, the HTML representation is unable to render, please try loading this page with nbviewer.org.</b></div><div class=\"sk-container\" hidden><div class=\"sk-item\"><div class=\"sk-estimator sk-toggleable\"><input class=\"sk-toggleable__control sk-hidden--visually\" id=\"sk-estimator-id-1\" type=\"checkbox\" checked><label for=\"sk-estimator-id-1\" class=\"sk-toggleable__label sk-toggleable__label-arrow\">LogisticRegression</label><div class=\"sk-toggleable__content\"><pre>LogisticRegression()</pre></div></div></div></div></div>"
            ]
          },
          "metadata": {},
          "execution_count": 16
        }
      ]
    },
    {
      "cell_type": "markdown",
      "source": [
        "# Step 5: Testing and Evaluation"
      ],
      "metadata": {
        "id": "GaDcbjJSMegU"
      }
    },
    {
      "cell_type": "code",
      "source": [
        "# Evaluate Naive Bayes classifier\n",
        "naive_bayes_accuracy, naive_bayes_report = evaluate_classifier(naive_bayes_classifier, X_test, y_test)\n",
        "print(\"Naive Bayes Classifier:\")\n",
        "print(\"Accuracy:\", naive_bayes_accuracy)\n",
        "print(\"Classification Report:\")\n",
        "print(naive_bayes_report)"
      ],
      "metadata": {
        "colab": {
          "base_uri": "https://localhost:8080/"
        },
        "id": "fmuYOF4_HUfJ",
        "outputId": "c7bde048-78c8-4fe8-b1ea-2433f18c0a06"
      },
      "execution_count": 17,
      "outputs": [
        {
          "output_type": "stream",
          "name": "stdout",
          "text": [
            "Naive Bayes Classifier:\n",
            "Accuracy: 0.9736842105263158\n",
            "Classification Report:\n",
            "              precision    recall  f1-score   support\n",
            "\n",
            "           0       1.00      0.95      0.98        43\n",
            "           1       0.94      1.00      0.97        33\n",
            "\n",
            "    accuracy                           0.97        76\n",
            "   macro avg       0.97      0.98      0.97        76\n",
            "weighted avg       0.98      0.97      0.97        76\n",
            "\n"
          ]
        }
      ]
    },
    {
      "cell_type": "code",
      "source": [
        "# Evaluate Logistic Regression classifier\n",
        "logistic_regression_accuracy, logistic_regression_report = evaluate_classifier(logistic_regression_classifier, X_test, y_test)\n",
        "print(\"\\nLogistic Regression Classifier:\")\n",
        "print(\"Accuracy:\",\n",
        "logistic_regression_accuracy)\n",
        "print(\"Classification Report:\")\n",
        "print(logistic_regression_report)"
      ],
      "metadata": {
        "colab": {
          "base_uri": "https://localhost:8080/"
        },
        "id": "r1LbpQwEHhKp",
        "outputId": "d1f8a622-d82d-4786-9f72-1adfa7209b60"
      },
      "execution_count": 18,
      "outputs": [
        {
          "output_type": "stream",
          "name": "stdout",
          "text": [
            "\n",
            "Logistic Regression Classifier:\n",
            "Accuracy: 0.9342105263157895\n",
            "Classification Report:\n",
            "              precision    recall  f1-score   support\n",
            "\n",
            "           0       0.95      0.93      0.94        43\n",
            "           1       0.91      0.94      0.93        33\n",
            "\n",
            "    accuracy                           0.93        76\n",
            "   macro avg       0.93      0.93      0.93        76\n",
            "weighted avg       0.93      0.93      0.93        76\n",
            "\n"
          ]
        }
      ]
    },
    {
      "cell_type": "code",
      "source": [
        "# Confusion Matrix\n",
        "from sklearn.metrics import confusion_matrix\n",
        "conf_matrix = confusion_matrix(y_test, y_pred)\n",
        "print(\"Confusion Matrix:\\n\", conf_matrix)"
      ],
      "metadata": {
        "colab": {
          "base_uri": "https://localhost:8080/"
        },
        "id": "2vuEeI9b7WrL",
        "outputId": "c09fcaa5-bf2b-41a0-c4f9-c4942961be3c"
      },
      "execution_count": 23,
      "outputs": [
        {
          "output_type": "stream",
          "name": "stdout",
          "text": [
            "Confusion Matrix:\n",
            " [[40  3]\n",
            " [ 2 31]]\n"
          ]
        }
      ]
    },
    {
      "cell_type": "code",
      "source": [
        "# Additional Metrics\n",
        "from sklearn.metrics import accuracy_score, precision_score, recall_score, f1_score\n",
        "from sklearn.linear_model import LogisticRegression\n",
        "lr = LogisticRegression()\n",
        "lr.fit(X_train, y_train)\n",
        "\n",
        "y_pred = lr.predict(X_test)\n",
        "\n",
        "# Calculate metrics\n",
        "accuracy = accuracy_score(y_test, y_pred)\n",
        "precision = precision_score(y_test, y_pred, average='macro')\n",
        "recall = recall_score(y_test, y_pred, average='macro')\n",
        "\n",
        "# Print the metrics\n",
        "print(\"Accuracy:\", accuracy)\n",
        "print(\"Precision:\", precision)\n",
        "print(\"Recall:\",recall)"
      ],
      "metadata": {
        "colab": {
          "base_uri": "https://localhost:8080/"
        },
        "id": "P-AzQnhM7YHX",
        "outputId": "9da60017-f71f-4f7f-d661-18c694bd116d"
      },
      "execution_count": 22,
      "outputs": [
        {
          "output_type": "stream",
          "name": "stdout",
          "text": [
            "Accuracy: 0.9342105263157895\n",
            "Precision: 0.9320728291316527\n",
            "Recall: 0.9348132487667371\n"
          ]
        },
        {
          "output_type": "stream",
          "name": "stderr",
          "text": [
            "/usr/local/lib/python3.10/dist-packages/sklearn/linear_model/_logistic.py:458: ConvergenceWarning: lbfgs failed to converge (status=1):\n",
            "STOP: TOTAL NO. of ITERATIONS REACHED LIMIT.\n",
            "\n",
            "Increase the number of iterations (max_iter) or scale the data as shown in:\n",
            "    https://scikit-learn.org/stable/modules/preprocessing.html\n",
            "Please also refer to the documentation for alternative solver options:\n",
            "    https://scikit-learn.org/stable/modules/linear_model.html#logistic-regression\n",
            "  n_iter_i = _check_optimize_result(\n"
          ]
        }
      ]
    }
  ]
}